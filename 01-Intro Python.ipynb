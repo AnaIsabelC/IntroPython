{
 "cells": [
  {
   "cell_type": "markdown",
   "id": "19296a28",
   "metadata": {},
   "source": [
    "# Introducción a Python\n",
    "\n",
    "Este es un primer notebook para hacer una introducción al lenguaje *Python*\n",
    "El tutorial esta basado en la página [W3Schools](https://www.w3schools.com/python/default.asp)\n"
   ]
  },
  {
   "cell_type": "code",
   "execution_count": 5,
   "id": "5cc78167",
   "metadata": {
    "scrolled": true
   },
   "outputs": [
    {
     "name": "stdout",
     "output_type": "stream",
     "text": [
      "Hola Web Social\n"
     ]
    }
   ],
   "source": [
    "# Así se hace un comentario en Python\n",
    "print(\"Hola Web Social\")"
   ]
  },
  {
   "cell_type": "code",
   "execution_count": 6,
   "id": "476a5bc1",
   "metadata": {},
   "outputs": [
    {
     "name": "stdout",
     "output_type": "stream",
     "text": [
      "5\n",
      "John\n"
     ]
    }
   ],
   "source": [
    "x = 5\n",
    "y = \"John\"\n",
    "print(x)\n",
    "print(y)"
   ]
  },
  {
   "cell_type": "code",
   "execution_count": 7,
   "id": "58e3a5fd",
   "metadata": {},
   "outputs": [
    {
     "name": "stdout",
     "output_type": "stream",
     "text": [
      "Orange\n",
      "Orange\n",
      "Orange\n"
     ]
    }
   ],
   "source": [
    "#Asignación de múltiples variables\n",
    "x = y = z = \"Orange\"\n",
    "print(x)\n",
    "print(y)\n",
    "print(z)"
   ]
  },
  {
   "cell_type": "code",
   "execution_count": 8,
   "id": "d4c5924b",
   "metadata": {},
   "outputs": [
    {
     "name": "stdout",
     "output_type": "stream",
     "text": [
      "Orange\n",
      "Banana\n",
      "Cherry\n"
     ]
    }
   ],
   "source": [
    "x, y, z = \"Orange\", \"Banana\", \"Cherry\"\n",
    "print(x)\n",
    "print(y)\n",
    "print(z)"
   ]
  },
  {
   "cell_type": "code",
   "execution_count": 10,
   "id": "7d9439a1",
   "metadata": {},
   "outputs": [
    {
     "name": "stdout",
     "output_type": "stream",
     "text": [
      "1\n"
     ]
    }
   ],
   "source": [
    "#Números aleatorios \n",
    "import random\n",
    "aleatorio = random.randrange(1,10)\n",
    "print (aleatorio)"
   ]
  },
  {
   "cell_type": "markdown",
   "id": "1cc15ed0",
   "metadata": {},
   "source": [
    "## Trabajando con cadenas de texto"
   ]
  },
  {
   "cell_type": "code",
   "execution_count": 11,
   "id": "2ed1cfc7",
   "metadata": {},
   "outputs": [
    {
     "name": "stdout",
     "output_type": "stream",
     "text": [
      "Esta es una cadena de texto\n",
      "de mútilples líneas.\n"
     ]
    }
   ],
   "source": [
    "#Crear una cadena de texto con múltiples líneas\n",
    "a = \"\"\"Esta es una cadena de texto\n",
    "de mútilples líneas.\"\"\"\n",
    "print(a)"
   ]
  },
  {
   "cell_type": "code",
   "execution_count": 14,
   "id": "0b6869e9",
   "metadata": {},
   "outputs": [
    {
     "name": "stdout",
     "output_type": "stream",
     "text": [
      "e\n"
     ]
    }
   ],
   "source": [
    "#Las cadenas de texto son arreglos\n",
    "a= \"Hello world\"\n",
    "print (a[1])"
   ]
  },
  {
   "cell_type": "code",
   "execution_count": 15,
   "id": "9bd99530",
   "metadata": {},
   "outputs": [
    {
     "name": "stdout",
     "output_type": "stream",
     "text": [
      "W\n",
      "e\n",
      "b\n",
      " \n",
      "S\n",
      "o\n",
      "c\n",
      "i\n",
      "a\n",
      "l\n"
     ]
    }
   ],
   "source": [
    "#Puedo hacer un ciclo que recorra el arreglo\n",
    "for x in \"Web Social\":\n",
    "    print (x) #Hay que tener cuidado con la identación"
   ]
  },
  {
   "cell_type": "code",
   "execution_count": 16,
   "id": "b78d54ad",
   "metadata": {},
   "outputs": [
    {
     "name": "stdout",
     "output_type": "stream",
     "text": [
      "11\n"
     ]
    }
   ],
   "source": [
    "#La longitud de una cadena de texto con el método Len\n",
    "print(len(a))"
   ]
  },
  {
   "cell_type": "code",
   "execution_count": 17,
   "id": "ad12812f",
   "metadata": {},
   "outputs": [
    {
     "name": "stdout",
     "output_type": "stream",
     "text": [
      "True\n"
     ]
    }
   ],
   "source": [
    "#Verificar si un texto esta dentro de una cadena de texto\n",
    "cadena = \"Chi trova un amigo trova un tesoro\"\n",
    "validar = \"trova\" in cadena\n",
    "print(validar)"
   ]
  },
  {
   "cell_type": "code",
   "execution_count": 18,
   "id": "345ce316",
   "metadata": {},
   "outputs": [
    {
     "name": "stdout",
     "output_type": "stream",
     "text": [
      "False\n"
     ]
    }
   ],
   "source": [
    "validar2 = \"amico\" in cadena\n",
    "print(validar2)"
   ]
  },
  {
   "cell_type": "code",
   "execution_count": 20,
   "id": "ab694f08",
   "metadata": {},
   "outputs": [
    {
     "name": "stdout",
     "output_type": "stream",
     "text": [
      "True\n"
     ]
    }
   ],
   "source": [
    "# Verificar si un texto no estpa dentro de una cadena de texto\n",
    "validar3 = \"web\" not in cadena\n",
    "print(validar3)"
   ]
  },
  {
   "cell_type": "code",
   "execution_count": 23,
   "id": "a30866cc",
   "metadata": {},
   "outputs": [
    {
     "name": "stdout",
     "output_type": "stream",
     "text": [
      "la_\n",
      "ist\n"
     ]
    }
   ],
   "source": [
    "#Dividir o extraer fragmentos de una cadena de texto\n",
    "b = \"Hola_Mundo\"\n",
    "print(b[2:5]) #Imprime desde el caracter 2 pero se excluye el 5\n",
    "c = \"Cristhian\"\n",
    "print(c[2:5]) #Se incluye el 2 pero se excluye el 5"
   ]
  },
  {
   "cell_type": "code",
   "execution_count": 24,
   "id": "de407cf7",
   "metadata": {},
   "outputs": [
    {
     "name": "stdout",
     "output_type": "stream",
     "text": [
      "Crist\n",
      "Crist\n"
     ]
    }
   ],
   "source": [
    "# desde el inicio\n",
    "print(c[0:5])\n",
    "print (c[:5])"
   ]
  },
  {
   "cell_type": "code",
   "execution_count": 25,
   "id": "f7922482",
   "metadata": {},
   "outputs": [
    {
     "name": "stdout",
     "output_type": "stream",
     "text": [
      "isthian\n"
     ]
    }
   ],
   "source": [
    "# hasta el final \n",
    "print(c[2:])"
   ]
  },
  {
   "cell_type": "code",
   "execution_count": 29,
   "id": "ec74914f",
   "metadata": {},
   "outputs": [
    {
     "name": "stdout",
     "output_type": "stream",
     "text": [
      "thi\n"
     ]
    }
   ],
   "source": [
    "# Indexación negativa\n",
    "print(c[-5:-2])"
   ]
  },
  {
   "cell_type": "code",
   "execution_count": 30,
   "id": "a0a8e95c",
   "metadata": {},
   "outputs": [
    {
     "name": "stdout",
     "output_type": "stream",
     "text": [
      "CRISTHIAN\n"
     ]
    }
   ],
   "source": [
    "print(c.upper())"
   ]
  },
  {
   "cell_type": "code",
   "execution_count": 32,
   "id": "5d9ee99b",
   "metadata": {},
   "outputs": [
    {
     "name": "stdout",
     "output_type": "stream",
     "text": [
      "cristhian\n"
     ]
    }
   ],
   "source": [
    "print(c.lower())"
   ]
  },
  {
   "cell_type": "code",
   "execution_count": 33,
   "id": "9f210f0b",
   "metadata": {},
   "outputs": [
    {
     "name": "stdout",
     "output_type": "stream",
     "text": [
      " Este es un texto de ejemplo     \n"
     ]
    }
   ],
   "source": [
    "#Remover espacios al inicio y al final de un texto\n",
    "texto = \" Este es un texto de ejemplo     \"\n",
    "print (texto)\n"
   ]
  },
  {
   "cell_type": "code",
   "execution_count": 35,
   "id": "362f2174",
   "metadata": {},
   "outputs": [
    {
     "name": "stdout",
     "output_type": "stream",
     "text": [
      "Este es un texto de ejemplo\n"
     ]
    }
   ],
   "source": [
    "print(texto.strip())"
   ]
  },
  {
   "cell_type": "code",
   "execution_count": 36,
   "id": "676bf188",
   "metadata": {},
   "outputs": [
    {
     "name": "stdout",
     "output_type": "stream",
     "text": [
      "Jello world!\n"
     ]
    }
   ],
   "source": [
    "# reemplazar textos dentro de una caden ade texto\n",
    "a= \"Hello world!\"\n",
    "print(a.replace(\"H\",\"J\"))"
   ]
  },
  {
   "cell_type": "code",
   "execution_count": 38,
   "id": "1a93a5c7",
   "metadata": {},
   "outputs": [
    {
     "name": "stdout",
     "output_type": "stream",
     "text": [
      "En la actualidad las manzanas están muy costosas. Prefiero las manzanas económicas\n"
     ]
    }
   ],
   "source": [
    "texto= \"En la actualidad las casas están muy costosas. Prefiero las casas económicas\"\n",
    "print(texto.replace(\"casas\",\"manzanas\"))"
   ]
  },
  {
   "cell_type": "code",
   "execution_count": 40,
   "id": "d3637b7a",
   "metadata": {},
   "outputs": [
    {
     "name": "stdout",
     "output_type": "stream",
     "text": [
      "['Carro,', 'avión,', 'barco,', 'moto,', 'bici']\n"
     ]
    }
   ],
   "source": [
    "#Dividir cadenas que esten separadas por un caracter \n",
    "a =\"Carro, avión, barco, moto, bici\"\n",
    "print(a.split())"
   ]
  },
  {
   "cell_type": "code",
   "execution_count": 42,
   "id": "f1548de4",
   "metadata": {},
   "outputs": [
    {
     "name": "stdout",
     "output_type": "stream",
     "text": [
      "My name is John, and I am 36\n"
     ]
    }
   ],
   "source": [
    "'''Imprimir texto y numeros no es posible en python, por lo cual se utiliza el \n",
    "método format() y se usan las llaves para indicar el número''' \n",
    "age = 36\n",
    "txt = \"My name is John, and I am {}\"\n",
    "print(txt.format(age))"
   ]
  },
  {
   "cell_type": "code",
   "execution_count": 43,
   "id": "b8d7b197",
   "metadata": {},
   "outputs": [
    {
     "name": "stdout",
     "output_type": "stream",
     "text": [
      "I want 3 pieces of item 567 for 49.95 dollars.\n"
     ]
    }
   ],
   "source": [
    "quantity = 3\n",
    "itemno = 567\n",
    "price = 49.95\n",
    "myorder = \"I want {} pieces of item {} for {} dollars.\"\n",
    "print(myorder.format(quantity, itemno, price))"
   ]
  },
  {
   "cell_type": "code",
   "execution_count": 44,
   "id": "73329165",
   "metadata": {},
   "outputs": [
    {
     "name": "stdout",
     "output_type": "stream",
     "text": [
      "True\n",
      "False\n",
      "False\n"
     ]
    }
   ],
   "source": [
    "# Booleanos en python True or False\n",
    "print(10 > 9)\n",
    "print(10 == 9)\n",
    "print(10 < 9)"
   ]
  },
  {
   "cell_type": "code",
   "execution_count": 46,
   "id": "eca08968",
   "metadata": {},
   "outputs": [
    {
     "name": "stdout",
     "output_type": "stream",
     "text": [
      "True\n",
      "<class 'bool'>\n"
     ]
    }
   ],
   "source": [
    "x = True\n",
    "print(x)\n",
    "print(type(x))"
   ]
  },
  {
   "cell_type": "code",
   "execution_count": 48,
   "id": "6c5bf4b5",
   "metadata": {},
   "outputs": [
    {
     "name": "stdout",
     "output_type": "stream",
     "text": [
      "False\n",
      "True\n",
      "True\n"
     ]
    }
   ],
   "source": [
    "print (bool(\"\")) # las cadenas vacías son evaluadas como false\n",
    "print (bool(\"Hola\"))\n",
    "print (bool(10))"
   ]
  },
  {
   "cell_type": "markdown",
   "id": "2320767a",
   "metadata": {},
   "source": [
    "## Colecciones de objetos en Python\n",
    "Existen 4 tipos principales de colecciones de objetos en Python:\n",
    "- listas: *list*\n",
    "- tuplas: *tuple*\n",
    "- diccionarios: *dict*\n",
    "- conjuntos: *set*"
   ]
  },
  {
   "cell_type": "markdown",
   "id": "37ed49fb",
   "metadata": {},
   "source": [
    "### Listas\n",
    "Conjunto de items **ordenados, modificables y que admiten valores duplicados**\n",
    "\n",
    "Los items están indexados empezando por el [0], luego el [1], etc."
   ]
  },
  {
   "cell_type": "code",
   "execution_count": 49,
   "id": "b76eda0f",
   "metadata": {},
   "outputs": [
    {
     "name": "stdout",
     "output_type": "stream",
     "text": [
      "['banano', 'papaya', 'maracuyá', 'banano', 'fresa']\n"
     ]
    }
   ],
   "source": [
    "lista_frutas = [\"banano\", \"papaya\", \"maracuyá\", \"banano\", \"fresa\"]\n",
    "print(lista_frutas)"
   ]
  },
  {
   "cell_type": "code",
   "execution_count": 50,
   "id": "3bef93a9",
   "metadata": {},
   "outputs": [
    {
     "name": "stdout",
     "output_type": "stream",
     "text": [
      "banano\n"
     ]
    }
   ],
   "source": [
    "# Ordenado es que tiene indice\n",
    "print (lista_frutas[0])"
   ]
  },
  {
   "cell_type": "code",
   "execution_count": 51,
   "id": "d58303a4",
   "metadata": {},
   "outputs": [
    {
     "name": "stdout",
     "output_type": "stream",
     "text": [
      "['banano', 'papaya', 'naranja', 'banano', 'fresa']\n"
     ]
    }
   ],
   "source": [
    "# modificable\n",
    "lista_frutas[2] = \"naranja\"\n",
    "print(lista_frutas)"
   ]
  },
  {
   "cell_type": "code",
   "execution_count": 52,
   "id": "b1d42eb6",
   "metadata": {},
   "outputs": [
    {
     "name": "stdout",
     "output_type": "stream",
     "text": [
      "5\n"
     ]
    }
   ],
   "source": [
    "#conocer el tamaño de una lista\n",
    "print(len(lista_frutas))"
   ]
  },
  {
   "cell_type": "code",
   "execution_count": 53,
   "id": "5debe0c5",
   "metadata": {},
   "outputs": [
    {
     "name": "stdout",
     "output_type": "stream",
     "text": [
      "['abc', 34, True, 40, 'male']\n"
     ]
    }
   ],
   "source": [
    "# una lista admite combinaciones de tipos de datos\n",
    "list1 = [\"abc\", 34, True, 40, \"male\"]\n",
    "print(list1)"
   ]
  },
  {
   "cell_type": "code",
   "execution_count": 54,
   "id": "effa309a",
   "metadata": {},
   "outputs": [
    {
     "name": "stdout",
     "output_type": "stream",
     "text": [
      "<class 'list'>\n"
     ]
    }
   ],
   "source": [
    "print(type(list1))"
   ]
  },
  {
   "cell_type": "code",
   "execution_count": 55,
   "id": "c735a46e",
   "metadata": {},
   "outputs": [
    {
     "name": "stdout",
     "output_type": "stream",
     "text": [
      "<class 'bool'>\n"
     ]
    }
   ],
   "source": [
    "print(type(list1[2]))"
   ]
  },
  {
   "cell_type": "code",
   "execution_count": 56,
   "id": "005aeaf5",
   "metadata": {},
   "outputs": [
    {
     "name": "stdout",
     "output_type": "stream",
     "text": [
      "['apple', 'banana', 'cherry', 'orange']\n"
     ]
    }
   ],
   "source": [
    "# Agregar o adicionar items a una lista\n",
    "# con append\n",
    "thislist = [\"apple\", \"banana\", \"cherry\"]\n",
    "thislist.append(\"orange\")\n",
    "print(thislist)"
   ]
  },
  {
   "cell_type": "code",
   "execution_count": 57,
   "id": "a022d10e",
   "metadata": {},
   "outputs": [
    {
     "name": "stdout",
     "output_type": "stream",
     "text": [
      "['apple', 'orange', 'banana', 'cherry']\n"
     ]
    }
   ],
   "source": [
    "# Con insert en el indice que indiquemos\n",
    "thislist = [\"apple\", \"banana\", \"cherry\"]\n",
    "thislist.insert(1, \"orange\")\n",
    "print(thislist)"
   ]
  },
  {
   "cell_type": "code",
   "execution_count": 58,
   "id": "c32f8b07",
   "metadata": {},
   "outputs": [
    {
     "name": "stdout",
     "output_type": "stream",
     "text": [
      "['apple', 'banana', 'cherry', 'kiwi', 'orange']\n"
     ]
    }
   ],
   "source": [
    " # Agregar items de otra lista\n",
    "thislist = [\"apple\", \"banana\", \"cherry\"]\n",
    "thistuple = (\"kiwi\", \"orange\")\n",
    "thislist.extend(thistuple)\n",
    "print(thislist)"
   ]
  },
  {
   "cell_type": "code",
   "execution_count": 59,
   "id": "ce7714fb",
   "metadata": {},
   "outputs": [
    {
     "name": "stdout",
     "output_type": "stream",
     "text": [
      "['apple', 'cherry']\n"
     ]
    }
   ],
   "source": [
    "# Remover un item específico\n",
    "thislist = [\"apple\", \"banana\", \"cherry\"]\n",
    "thislist.remove(\"banana\")\n",
    "print(thislist)"
   ]
  },
  {
   "cell_type": "code",
   "execution_count": 60,
   "id": "57276999",
   "metadata": {},
   "outputs": [
    {
     "name": "stdout",
     "output_type": "stream",
     "text": [
      "['apple', 'cherry']\n"
     ]
    }
   ],
   "source": [
    "thislist = [\"apple\", \"banana\", \"cherry\"]\n",
    "thislist.pop(1)\n",
    "print(thislist)"
   ]
  },
  {
   "cell_type": "markdown",
   "id": "dfe98bdb",
   "metadata": {},
   "source": [
    "### Tuplas\n",
    "Las tuplas son colecciones de items **ordenadas, admiten valores duplicados pero no modificables** "
   ]
  },
  {
   "cell_type": "code",
   "execution_count": 61,
   "id": "6efa6c97",
   "metadata": {},
   "outputs": [
    {
     "name": "stdout",
     "output_type": "stream",
     "text": [
      "('apple', 'banana', 'cherry')\n"
     ]
    }
   ],
   "source": [
    "thistuple = (\"apple\", \"banana\", \"cherry\")\n",
    "print(thistuple)"
   ]
  },
  {
   "cell_type": "code",
   "execution_count": 62,
   "id": "a90c9cd4",
   "metadata": {},
   "outputs": [
    {
     "name": "stdout",
     "output_type": "stream",
     "text": [
      "<class 'tuple'>\n"
     ]
    }
   ],
   "source": [
    "print(type(thistuple))"
   ]
  },
  {
   "cell_type": "markdown",
   "id": "d7d97bbf",
   "metadata": {},
   "source": [
    "### Conjuntos Set\n",
    "Son colecciones de items desordenados, admiten valores duplicados pero no modificables\n",
    "\n"
   ]
  },
  {
   "cell_type": "code",
   "execution_count": 1,
   "id": "4c16f279",
   "metadata": {},
   "outputs": [
    {
     "name": "stdout",
     "output_type": "stream",
     "text": [
      "{'cherry', 'banana', 'apple'}\n"
     ]
    }
   ],
   "source": [
    "thisset = {\"apple\", \"banana\", \"cherry\"}\n",
    "print(thisset)"
   ]
  },
  {
   "cell_type": "code",
   "execution_count": 2,
   "id": "8da966fc",
   "metadata": {},
   "outputs": [
    {
     "name": "stdout",
     "output_type": "stream",
     "text": [
      "cherry\n",
      "banana\n",
      "apple\n"
     ]
    }
   ],
   "source": [
    "#Como los conjuntos no tienen items, se usa un for para recorrerlo\n",
    "thisset = {\"apple\", \"banana\", \"cherry\"}\n",
    "\n",
    "for x in thisset:\n",
    "  print(x)"
   ]
  },
  {
   "cell_type": "code",
   "execution_count": 3,
   "id": "b8e3f483",
   "metadata": {},
   "outputs": [
    {
     "name": "stdout",
     "output_type": "stream",
     "text": [
      "{'cherry', 'banana', 'orange', 'apple'}\n"
     ]
    }
   ],
   "source": [
    "#Agretar items al conjunto\n",
    "thisset = {\"apple\", \"banana\", \"cherry\"}\n",
    "\n",
    "thisset.add(\"orange\")\n",
    "\n",
    "print(thisset)"
   ]
  },
  {
   "cell_type": "code",
   "execution_count": 4,
   "id": "09d46bc0",
   "metadata": {},
   "outputs": [
    {
     "name": "stdout",
     "output_type": "stream",
     "text": [
      "{'papaya', 'banana', 'pineapple', 'mango', 'cherry', 'apple'}\n"
     ]
    }
   ],
   "source": [
    "#podemos agregar items con update\n",
    "thisset = {\"apple\", \"banana\", \"cherry\"}\n",
    "tropical = {\"pineapple\", \"mango\", \"papaya\"}\n",
    "\n",
    "thisset.update(tropical)\n",
    "\n",
    "print(thisset)"
   ]
  },
  {
   "cell_type": "markdown",
   "id": "0ae72ca7",
   "metadata": {},
   "source": [
    "### Diccionarios\n",
    "Son colecciones de items organizados a manera de clave-valor, son ordenados, modificables pero no admiten duplicados, es decir, cada clave debe ser única "
   ]
  },
  {
   "cell_type": "code",
   "execution_count": 5,
   "id": "30108f2d",
   "metadata": {},
   "outputs": [
    {
     "name": "stdout",
     "output_type": "stream",
     "text": [
      "{'brand': 'Ford', 'model': 'Mustang', 'year': 1964}\n"
     ]
    }
   ],
   "source": [
    "thisdict = {\n",
    "  \"brand\": \"Ford\",\n",
    "  \"model\": \"Mustang\",\n",
    "  \"year\": 1964\n",
    "}\n",
    "print(thisdict)"
   ]
  },
  {
   "cell_type": "code",
   "execution_count": 10,
   "id": "cbf9729b",
   "metadata": {},
   "outputs": [
    {
     "name": "stdout",
     "output_type": "stream",
     "text": [
      "{'brand': 'Ford', 'electric': False, 'year': 1964, 'colors': ['red', 'white', 'blue']}\n"
     ]
    }
   ],
   "source": [
    "thisdict = {\n",
    "  \"brand\": \"Ford\",\n",
    "  \"electric\": False,\n",
    "  \"year\": 1964,\n",
    "  \"colors\": [\"red\", \"white\", \"blue\"]\n",
    "}\n",
    "print(thisdict)"
   ]
  },
  {
   "cell_type": "code",
   "execution_count": 11,
   "id": "e7866061",
   "metadata": {},
   "outputs": [
    {
     "name": "stdout",
     "output_type": "stream",
     "text": [
      "{'child1': {'name': 'Emil', 'year': 2004}, 'child2': {'name': 'Tobias', 'year': 2007}, 'child3': {'name': 'Linus', 'year': 2011}}\n"
     ]
    }
   ],
   "source": [
    "#Diccionarios anidados\n",
    "myfamily = {\n",
    "  \"child1\" : {\n",
    "    \"name\" : \"Emil\",\n",
    "    \"year\" : 2004\n",
    "  },\n",
    "  \"child2\" : {\n",
    "    \"name\" : \"Tobias\",\n",
    "    \"year\" : 2007\n",
    "  },\n",
    "  \"child3\" : {\n",
    "    \"name\" : \"Linus\",\n",
    "    \"year\" : 2011\n",
    "  }\n",
    "}\n",
    "print(myfamily)"
   ]
  },
  {
   "cell_type": "code",
   "execution_count": 13,
   "id": "58830220",
   "metadata": {},
   "outputs": [
    {
     "name": "stdout",
     "output_type": "stream",
     "text": [
      "dict_keys(['child1', 'child2', 'child3'])\n"
     ]
    }
   ],
   "source": [
    "# Imprimir las claves del diccionario\n",
    "print(myfamily.keys())"
   ]
  },
  {
   "cell_type": "code",
   "execution_count": 14,
   "id": "0f59de0c",
   "metadata": {},
   "outputs": [
    {
     "name": "stdout",
     "output_type": "stream",
     "text": [
      "dict_keys(['name', 'year'])\n"
     ]
    }
   ],
   "source": [
    "print(myfamily[\"child1\"].keys())"
   ]
  },
  {
   "cell_type": "markdown",
   "id": "0db2919f",
   "metadata": {},
   "source": [
    "### Condicionales"
   ]
  },
  {
   "cell_type": "code",
   "execution_count": 15,
   "id": "c9b4e5f7",
   "metadata": {},
   "outputs": [
    {
     "name": "stdout",
     "output_type": "stream",
     "text": [
      "a is greater than b\n"
     ]
    }
   ],
   "source": [
    "a = 200\n",
    "b = 33\n",
    "if b > a:\n",
    "  print(\"b is greater than a\")\n",
    "elif a == b:\n",
    "  print(\"a and b are equal\")\n",
    "else:\n",
    "  print(\"a is greater than b\")"
   ]
  },
  {
   "cell_type": "markdown",
   "id": "160f688d",
   "metadata": {},
   "source": [
    "### Ciclos"
   ]
  },
  {
   "cell_type": "code",
   "execution_count": 16,
   "id": "77bf720b",
   "metadata": {},
   "outputs": [
    {
     "name": "stdout",
     "output_type": "stream",
     "text": [
      "1\n",
      "2\n",
      "3\n",
      "4\n",
      "5\n"
     ]
    }
   ],
   "source": [
    "i = 1\n",
    "while i < 6:\n",
    "  print(i)\n",
    "  i += 1"
   ]
  },
  {
   "cell_type": "code",
   "execution_count": 17,
   "id": "672fcea0",
   "metadata": {},
   "outputs": [
    {
     "name": "stdout",
     "output_type": "stream",
     "text": [
      "1\n",
      "2\n",
      "3\n"
     ]
    }
   ],
   "source": [
    "i = 1\n",
    "while i < 6:\n",
    "  print(i)\n",
    "  if i == 3:\n",
    "    break\n",
    "  i += 1"
   ]
  },
  {
   "cell_type": "code",
   "execution_count": 18,
   "id": "746345ac",
   "metadata": {},
   "outputs": [
    {
     "name": "stdout",
     "output_type": "stream",
     "text": [
      "1\n",
      "2\n",
      "4\n",
      "5\n",
      "6\n"
     ]
    }
   ],
   "source": [
    "i = 0\n",
    "while i < 6:\n",
    "  i += 1\n",
    "  if i == 3:\n",
    "    continue\n",
    "  print(i)"
   ]
  },
  {
   "cell_type": "code",
   "execution_count": 19,
   "id": "76532762",
   "metadata": {},
   "outputs": [
    {
     "name": "stdout",
     "output_type": "stream",
     "text": [
      "apple\n",
      "banana\n",
      "cherry\n"
     ]
    }
   ],
   "source": [
    "fruits = [\"apple\", \"banana\", \"cherry\"]\n",
    "for x in fruits:\n",
    "  print(x)"
   ]
  },
  {
   "cell_type": "code",
   "execution_count": 20,
   "id": "36848452",
   "metadata": {},
   "outputs": [
    {
     "name": "stdout",
     "output_type": "stream",
     "text": [
      "0\n",
      "1\n",
      "2\n",
      "3\n",
      "4\n",
      "5\n"
     ]
    }
   ],
   "source": [
    "for x in range(6):\n",
    "  print(x)"
   ]
  },
  {
   "cell_type": "code",
   "execution_count": 21,
   "id": "0077dda3",
   "metadata": {},
   "outputs": [
    {
     "name": "stdout",
     "output_type": "stream",
     "text": [
      "0\n",
      "1\n",
      "2\n",
      "3\n",
      "4\n",
      "5\n",
      "Finally finished!\n"
     ]
    }
   ],
   "source": [
    "for x in range(6):\n",
    "  print(x)\n",
    "else:\n",
    "  print(\"Finally finished!\")"
   ]
  },
  {
   "cell_type": "markdown",
   "id": "fc278f60",
   "metadata": {},
   "source": [
    "### FUNCIONES\n",
    "Las funciones en Python empuezan con la palabra def"
   ]
  },
  {
   "cell_type": "code",
   "execution_count": 24,
   "id": "73d8e777",
   "metadata": {},
   "outputs": [
    {
     "name": "stdout",
     "output_type": "stream",
     "text": [
      "Holis\n"
     ]
    }
   ],
   "source": [
    "#Crear una función\n",
    "def saludar():\n",
    "  print(\"Holis\")\n",
    "\n",
    "saludar()"
   ]
  },
  {
   "cell_type": "code",
   "execution_count": 29,
   "id": "43acb8da",
   "metadata": {},
   "outputs": [
    {
     "name": "stdout",
     "output_type": "stream",
     "text": [
      "Hola Cristhian\n"
     ]
    }
   ],
   "source": [
    "#Pasar argumentos a una función\n",
    "def saludar(nombre):\n",
    "    print(\"Hola \"+ nombre)\n",
    "    \n",
    "saludar(\"Cristhian\")"
   ]
  },
  {
   "cell_type": "code",
   "execution_count": 30,
   "id": "1e769485",
   "metadata": {},
   "outputs": [
    {
     "name": "stdout",
     "output_type": "stream",
     "text": [
      "The youngest child is Linus\n"
     ]
    }
   ],
   "source": [
    "def my_function(child3, child2, child1):\n",
    "  print(\"The youngest child is \" + child3)\n",
    "\n",
    "my_function(child1 = \"Emil\", child2 = \"Tobias\", child3 = \"Linus\")"
   ]
  },
  {
   "cell_type": "code",
   "execution_count": 31,
   "id": "967694b3",
   "metadata": {},
   "outputs": [
    {
     "name": "stdout",
     "output_type": "stream",
     "text": [
      "I am from Sweden\n",
      "I am from India\n",
      "I am from Norway\n",
      "I am from Brazil\n"
     ]
    }
   ],
   "source": [
    "def my_function(country = \"Norway\"):\n",
    "  print(\"I am from \" + country)\n",
    "\n",
    "my_function(\"Sweden\")\n",
    "my_function(\"India\")\n",
    "my_function()\n",
    "my_function(\"Brazil\")"
   ]
  },
  {
   "cell_type": "markdown",
   "id": "77680b2d",
   "metadata": {},
   "source": [
    "### Lambda\n",
    "Son funciones anónimas pequeñas"
   ]
  },
  {
   "cell_type": "code",
   "execution_count": 32,
   "id": "0bfedcce",
   "metadata": {},
   "outputs": [
    {
     "name": "stdout",
     "output_type": "stream",
     "text": [
      "15\n"
     ]
    }
   ],
   "source": [
    "x = lambda a : a + 10\n",
    "print(x(5))"
   ]
  },
  {
   "cell_type": "code",
   "execution_count": 33,
   "id": "ee0e1177",
   "metadata": {},
   "outputs": [
    {
     "name": "stdout",
     "output_type": "stream",
     "text": [
      "30\n"
     ]
    }
   ],
   "source": [
    "x = lambda a, b : a * b\n",
    "print(x(5, 6))"
   ]
  },
  {
   "cell_type": "code",
   "execution_count": 34,
   "id": "af175baa",
   "metadata": {},
   "outputs": [
    {
     "name": "stdout",
     "output_type": "stream",
     "text": [
      "13\n"
     ]
    }
   ],
   "source": [
    "x = lambda a, b, c : a + b + c\n",
    "print(x(5, 6, 2))"
   ]
  },
  {
   "cell_type": "code",
   "execution_count": 36,
   "id": "771a5ee8",
   "metadata": {},
   "outputs": [
    {
     "name": "stdout",
     "output_type": "stream",
     "text": [
      "22\n"
     ]
    }
   ],
   "source": [
    "def myfunc(n):\n",
    "  return lambda a : a * n\n",
    "\n",
    "mydoubler = myfunc(2)\n",
    "\n",
    "print(mydoubler(11))"
   ]
  },
  {
   "cell_type": "markdown",
   "id": "fe07f36f",
   "metadata": {},
   "source": [
    "## Módulos importantes de Python\n"
   ]
  },
  {
   "cell_type": "markdown",
   "id": "cfd8c995",
   "metadata": {},
   "source": [
    "### NumPy (NumericalPython)\n",
    "Es una librería de Python útil para trabajar con arreglos\n",
    "\n",
    "Python no tiene arreglos y utiliza las listas para este propósito, no obstante las listas son lentas, por eso NumPy define los \"ndarray\" que son considerados hasta 50 veces más rapidos de las listas"
   ]
  },
  {
   "cell_type": "code",
   "execution_count": 41,
   "id": "218db9f5",
   "metadata": {},
   "outputs": [
    {
     "name": "stdout",
     "output_type": "stream",
     "text": [
      "Requirement already satisfied: numpy in c:\\users\\lenovo\\anaconda3\\lib\\site-packages (1.21.5)\n"
     ]
    }
   ],
   "source": [
    "#Para instalar NumPy \n",
    "!python -m pip install numpy"
   ]
  },
  {
   "cell_type": "code",
   "execution_count": 46,
   "id": "33b0b71e",
   "metadata": {},
   "outputs": [
    {
     "name": "stdout",
     "output_type": "stream",
     "text": [
      "[1 2 3 4 5]\n"
     ]
    }
   ],
   "source": [
    "import numpy as np\n",
    "\n",
    "arr = np.array([1, 2, 3, 4, 5])\n",
    "\n",
    "print(arr)"
   ]
  },
  {
   "cell_type": "markdown",
   "id": "dea9835c",
   "metadata": {},
   "source": [
    "### Pandas \n",
    "Es una libreria de Python utilizada para analizar datos"
   ]
  },
  {
   "cell_type": "code",
   "execution_count": 47,
   "id": "8a404dfd",
   "metadata": {},
   "outputs": [
    {
     "name": "stdout",
     "output_type": "stream",
     "text": [
      "Requirement already satisfied: pandas in c:\\users\\lenovo\\anaconda3\\lib\\site-packages (1.4.4)\n",
      "Requirement already satisfied: python-dateutil>=2.8.1 in c:\\users\\lenovo\\anaconda3\\lib\\site-packages (from pandas) (2.8.2)\n",
      "Requirement already satisfied: pytz>=2020.1 in c:\\users\\lenovo\\anaconda3\\lib\\site-packages (from pandas) (2022.1)\n",
      "Requirement already satisfied: numpy>=1.18.5 in c:\\users\\lenovo\\anaconda3\\lib\\site-packages (from pandas) (1.21.5)\n",
      "Requirement already satisfied: six>=1.5 in c:\\users\\lenovo\\anaconda3\\lib\\site-packages (from python-dateutil>=2.8.1->pandas) (1.16.0)\n"
     ]
    }
   ],
   "source": [
    "!Python -m pip install pandas"
   ]
  },
  {
   "cell_type": "code",
   "execution_count": 48,
   "id": "26373163",
   "metadata": {},
   "outputs": [],
   "source": [
    "import pandas as pd"
   ]
  },
  {
   "cell_type": "code",
   "execution_count": 49,
   "id": "c8abcfcb",
   "metadata": {},
   "outputs": [
    {
     "name": "stdout",
     "output_type": "stream",
     "text": [
      "    cars  passings\n",
      "0    BMW         3\n",
      "1  Volvo         7\n",
      "2   Ford         2\n"
     ]
    }
   ],
   "source": [
    "import pandas\n",
    "\n",
    "mydataset = {\n",
    "  'cars': [\"BMW\", \"Volvo\", \"Ford\"],\n",
    "  'passings': [3, 7, 2]\n",
    "}\n",
    "\n",
    "myvar = pandas.DataFrame(mydataset)\n",
    "\n",
    "print(myvar)"
   ]
  },
  {
   "cell_type": "code",
   "execution_count": 50,
   "id": "6ba7d142",
   "metadata": {},
   "outputs": [
    {
     "name": "stdout",
     "output_type": "stream",
     "text": [
      "0    1\n",
      "1    7\n",
      "2    2\n",
      "dtype: int64\n"
     ]
    }
   ],
   "source": [
    "a = [1, 7, 2]\n",
    "\n",
    "myvar = pd.Series(a)\n",
    "\n",
    "print(myvar)"
   ]
  },
  {
   "cell_type": "code",
   "execution_count": 51,
   "id": "4ed30400",
   "metadata": {},
   "outputs": [
    {
     "name": "stdout",
     "output_type": "stream",
     "text": [
      "x    1\n",
      "y    7\n",
      "z    2\n",
      "dtype: int64\n"
     ]
    }
   ],
   "source": [
    "#Crear etiquetas\n",
    "a = [1, 7, 2]\n",
    "\n",
    "myvar = pd.Series(a, index = [\"x\", \"y\", \"z\"])\n",
    "\n",
    "print(myvar)"
   ]
  },
  {
   "cell_type": "code",
   "execution_count": null,
   "id": "f412a614",
   "metadata": {},
   "outputs": [],
   "source": []
  }
 ],
 "metadata": {
  "kernelspec": {
   "display_name": "Python 3 (ipykernel)",
   "language": "python",
   "name": "python3"
  },
  "language_info": {
   "codemirror_mode": {
    "name": "ipython",
    "version": 3
   },
   "file_extension": ".py",
   "mimetype": "text/x-python",
   "name": "python",
   "nbconvert_exporter": "python",
   "pygments_lexer": "ipython3",
   "version": "3.9.13"
  }
 },
 "nbformat": 4,
 "nbformat_minor": 5
}
